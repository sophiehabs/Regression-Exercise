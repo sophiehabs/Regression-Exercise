{
 "cells": [
  {
   "cell_type": "code",
   "execution_count": null,
   "metadata": {},
   "outputs": [],
   "source": [
    "import numpy as np\n",
    "import pandas as pd\n",
    "\n",
    "from statistics import mean\n",
    "\n",
    "import matplotlib as pyplot\n",
    "import seaborn as sns\n",
    "\n",
    "import matplotlib.pyplot as plt; plt.rcdefaults()\n",
    "import matplotlib.pyplot as plt\n",
    "\n",
    "from sklearn.preprocessing import OrdinalEncoder\n",
    "from sklearn.model_selection import cross_val_score\n",
    "\n",
    "from sklearn import linear_model\n",
    "from sklearn.tree import DecisionTreeRegressor"
   ]
  },
  {
   "cell_type": "code",
   "execution_count": null,
   "metadata": {},
   "outputs": [],
   "source": [
    "# This function returns the count for each different value\n",
    "# of a given value. it is used to create more information\n",
    "def getCountVar(d, column):\n",
    "    group = d.groupby(column)\n",
    "    summary = group[column].count()\n",
    "    countList = summary[d[column]]\n",
    "    \n",
    "    return countList.values\n",
    "\n",
    "# This function returns the purchases average for\n",
    "# each distinct value of column\n",
    "def getPurchasesAvg(d, column):\n",
    "    group = d.groupby(column)\n",
    "    summary = group['Purchase'].agg('mean')\n",
    "    sumList = summary[d[column]]\n",
    "\n",
    "    return sumList.values\n"
   ]
  },
  {
   "cell_type": "code",
   "execution_count": null,
   "metadata": {},
   "outputs": [],
   "source": [
    "d = pd.read_csv('./data.csv')\n",
    "\n",
    "d.head() #see first 5 rows\n",
    "d.info() #look at data and observe that prod_category 2 & 3 contain null values\n"
   ]
  },
  {
   "cell_type": "code",
   "execution_count": null,
   "metadata": {},
   "outputs": [],
   "source": [
    "#___________________Fix Raw Data & remove null values_________________\n",
    "\n",
    "#from data.info we saw that prod_category 3 contains 70% null values\n",
    "# -> therefor we drop product CATEGORY 3\n",
    "d = d.drop(['Product_Category_3'], axis=1)\n",
    "\n",
    "#Prod category 2 only contains 30% of null values\n",
    "# -> we fill up this column with (insserting) a mean value in column for all missing fields\n",
    "d['Product_Category_2'].fillna((d['Product_Category_2'].mean()), inplace=True)\n",
    "\n",
    "#check data updated (all was successfull)\n",
    "d.info()"
   ]
  },
  {
   "cell_type": "code",
   "execution_count": null,
   "metadata": {},
   "outputs": [],
   "source": [
    "# Encode non-numeric columns (One Hot Encoding)\n",
    "columns_to_encode = [\n",
    "    'Gender', \n",
    "    'Age', \n",
    "    'Occupation', \n",
    "    'City_Category',\n",
    "    'Stay_In_Current_City_Years',\n",
    "]\n",
    "\n",
    "d = pd.get_dummies(\n",
    "    d, \n",
    "    columns=columns_to_encode, \n",
    "    dummy_na=True, \n",
    "    drop_first=True)\n",
    "\n",
    "# The Product_ID has to be encoded because is not numerical   \n",
    "enc = OrdinalEncoder()\n",
    "d['Product_ID'] = enc.fit_transform(pd.DataFrame(d['Product_ID']))\n"
   ]
  },
  {
   "cell_type": "code",
   "execution_count": null,
   "metadata": {},
   "outputs": [],
   "source": [
    " # We try creating some new columns \n",
    "# This new variables gives a big improvement\n",
    "d['Product_ID_Count'] = getCountVar(d, 'Product_ID')\n",
    "d['Product_ID_Avg'] = getPurchasesAvg(d, 'Product_ID')\n",
    "d['User_ID_Count'] = getCountVar(d, 'User_ID')\n",
    "d['User_ID_Avg'] = getPurchasesAvg(d, 'User_ID')\n",
    "\n",
    "#d = d.drop('Product_ID', axis=1)\n",
    "#d = d.drop('User_ID', axis=1)"
   ]
  },
  {
   "cell_type": "code",
   "execution_count": null,
   "metadata": {},
   "outputs": [],
   "source": [
    "y = d['Purchase']\n",
    "X = d.drop('Purchase', axis=1)\n",
    "\n",
    "#m = linear_model.LinearRegression()\n",
    "m = DecisionTreeRegressor(max_depth=10, min_samples_leaf=200)\n",
    "\n",
    "scores = cross_val_score(m, X, y, scoring='neg_mean_squared_error', cv=5)\n",
    "#scores = cross_val_score(m, X, y, scoring='neg_mean_absolute_percentage_error', cv=5)\n",
    "print(mean(np.sqrt(-1 * scores)))\n",
    "#print(scores)\n",
    "#print(mean(scores))\n"
   ]
  }
 ],
 "metadata": {
  "kernelspec": {
   "display_name": "Python 3.9.13 ('base')",
   "language": "python",
   "name": "python3"
  },
  "language_info": {
   "codemirror_mode": {
    "name": "ipython",
    "version": 3
   },
   "file_extension": ".py",
   "mimetype": "text/x-python",
   "name": "python",
   "nbconvert_exporter": "python",
   "pygments_lexer": "ipython3",
   "version": "3.9.13"
  },
  "orig_nbformat": 4,
  "vscode": {
   "interpreter": {
    "hash": "40d3a090f54c6569ab1632332b64b2c03c39dcf918b08424e98f38b5ae0af88f"
   }
  }
 },
 "nbformat": 4,
 "nbformat_minor": 2
}
